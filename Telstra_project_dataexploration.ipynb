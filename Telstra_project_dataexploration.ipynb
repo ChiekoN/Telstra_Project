{
 "cells": [
  {
   "cell_type": "markdown",
   "metadata": {},
   "source": [
    "### Machine Learning Engineer Nanodegree\n",
    "\n",
    "# Capstone Project\n",
    "\n",
    "## Telstra Network Disruptions Project\n",
    "\n",
    "## Notebook 1:  Data Exprolation\n",
    "\n",
    "This is a project to build a model that predict a level of fault severity at a time and a location in thier network using log data.\n",
    "\n",
    "The dataset for this project originally came from Kaggle's past competition page:\n",
    "\n",
    "[Telstra Network Disruptions in Kaggle](https://www.kaggle.com/c/telstra-recruiting-network)\n",
    "\n",
    "\n",
    "In this notebook, I read data files, and inspect and analyze the dataset to develop my understanding of data."
   ]
  },
  {
   "cell_type": "code",
   "execution_count": 1,
   "metadata": {},
   "outputs": [],
   "source": [
    "import numpy as np\n",
    "import pandas as pd\n",
    "from IPython.display import display\n",
    "import matplotlib.pyplot as plt\n",
    "import seaborn as sns\n",
    "\n",
    "# helper module for this project \n",
    "from telstra_helper import getint, read_tables\n",
    "\n",
    "%matplotlib inline"
   ]
  },
  {
   "cell_type": "code",
   "execution_count": 2,
   "metadata": {},
   "outputs": [],
   "source": [
    "# Show all columns in DataFrame\n",
    "pd.options.display.max_columns=None"
   ]
  },
  {
   "cell_type": "markdown",
   "metadata": {},
   "source": [
    "## 1. Read data \n",
    "\n",
    "Read csv files and load data into Pandas DataFrame. For each file, 5 rows from head is shown as an example as well as data types.  "
   ]
  },
  {
   "cell_type": "code",
   "execution_count": 3,
   "metadata": {},
   "outputs": [
    {
     "name": "stdout",
     "output_type": "stream",
     "text": [
      "----- train.csv -----\n"
     ]
    },
    {
     "data": {
      "text/html": [
       "<div>\n",
       "<style scoped>\n",
       "    .dataframe tbody tr th:only-of-type {\n",
       "        vertical-align: middle;\n",
       "    }\n",
       "\n",
       "    .dataframe tbody tr th {\n",
       "        vertical-align: top;\n",
       "    }\n",
       "\n",
       "    .dataframe thead th {\n",
       "        text-align: right;\n",
       "    }\n",
       "</style>\n",
       "<table border=\"1\" class=\"dataframe\">\n",
       "  <thead>\n",
       "    <tr style=\"text-align: right;\">\n",
       "      <th></th>\n",
       "      <th>id</th>\n",
       "      <th>location</th>\n",
       "      <th>fault_severity</th>\n",
       "    </tr>\n",
       "  </thead>\n",
       "  <tbody>\n",
       "    <tr>\n",
       "      <th>0</th>\n",
       "      <td>14121</td>\n",
       "      <td>location 118</td>\n",
       "      <td>1</td>\n",
       "    </tr>\n",
       "    <tr>\n",
       "      <th>1</th>\n",
       "      <td>9320</td>\n",
       "      <td>location 91</td>\n",
       "      <td>0</td>\n",
       "    </tr>\n",
       "    <tr>\n",
       "      <th>2</th>\n",
       "      <td>14394</td>\n",
       "      <td>location 152</td>\n",
       "      <td>1</td>\n",
       "    </tr>\n",
       "    <tr>\n",
       "      <th>3</th>\n",
       "      <td>8218</td>\n",
       "      <td>location 931</td>\n",
       "      <td>1</td>\n",
       "    </tr>\n",
       "    <tr>\n",
       "      <th>4</th>\n",
       "      <td>14804</td>\n",
       "      <td>location 120</td>\n",
       "      <td>0</td>\n",
       "    </tr>\n",
       "  </tbody>\n",
       "</table>\n",
       "</div>"
      ],
      "text/plain": [
       "      id      location  fault_severity\n",
       "0  14121  location 118               1\n",
       "1   9320   location 91               0\n",
       "2  14394  location 152               1\n",
       "3   8218  location 931               1\n",
       "4  14804  location 120               0"
      ]
     },
     "metadata": {},
     "output_type": "display_data"
    },
    {
     "data": {
      "text/plain": [
       "id                 int64\n",
       "location          object\n",
       "fault_severity     int64\n",
       "dtype: object"
      ]
     },
     "metadata": {},
     "output_type": "display_data"
    },
    {
     "name": "stdout",
     "output_type": "stream",
     "text": [
      "\n",
      "----- log_feature.csv -----\n"
     ]
    },
    {
     "data": {
      "text/html": [
       "<div>\n",
       "<style scoped>\n",
       "    .dataframe tbody tr th:only-of-type {\n",
       "        vertical-align: middle;\n",
       "    }\n",
       "\n",
       "    .dataframe tbody tr th {\n",
       "        vertical-align: top;\n",
       "    }\n",
       "\n",
       "    .dataframe thead th {\n",
       "        text-align: right;\n",
       "    }\n",
       "</style>\n",
       "<table border=\"1\" class=\"dataframe\">\n",
       "  <thead>\n",
       "    <tr style=\"text-align: right;\">\n",
       "      <th></th>\n",
       "      <th>id</th>\n",
       "      <th>log_feature</th>\n",
       "      <th>volume</th>\n",
       "    </tr>\n",
       "  </thead>\n",
       "  <tbody>\n",
       "    <tr>\n",
       "      <th>0</th>\n",
       "      <td>6597</td>\n",
       "      <td>feature 68</td>\n",
       "      <td>6</td>\n",
       "    </tr>\n",
       "    <tr>\n",
       "      <th>1</th>\n",
       "      <td>8011</td>\n",
       "      <td>feature 68</td>\n",
       "      <td>7</td>\n",
       "    </tr>\n",
       "    <tr>\n",
       "      <th>2</th>\n",
       "      <td>2597</td>\n",
       "      <td>feature 68</td>\n",
       "      <td>1</td>\n",
       "    </tr>\n",
       "    <tr>\n",
       "      <th>3</th>\n",
       "      <td>5022</td>\n",
       "      <td>feature 172</td>\n",
       "      <td>2</td>\n",
       "    </tr>\n",
       "    <tr>\n",
       "      <th>4</th>\n",
       "      <td>5022</td>\n",
       "      <td>feature 56</td>\n",
       "      <td>1</td>\n",
       "    </tr>\n",
       "  </tbody>\n",
       "</table>\n",
       "</div>"
      ],
      "text/plain": [
       "     id  log_feature  volume\n",
       "0  6597   feature 68       6\n",
       "1  8011   feature 68       7\n",
       "2  2597   feature 68       1\n",
       "3  5022  feature 172       2\n",
       "4  5022   feature 56       1"
      ]
     },
     "metadata": {},
     "output_type": "display_data"
    },
    {
     "data": {
      "text/plain": [
       "id              int64\n",
       "log_feature    object\n",
       "volume          int64\n",
       "dtype: object"
      ]
     },
     "metadata": {},
     "output_type": "display_data"
    },
    {
     "name": "stdout",
     "output_type": "stream",
     "text": [
      "\n",
      "----- severity_type.csv -----\n"
     ]
    },
    {
     "data": {
      "text/html": [
       "<div>\n",
       "<style scoped>\n",
       "    .dataframe tbody tr th:only-of-type {\n",
       "        vertical-align: middle;\n",
       "    }\n",
       "\n",
       "    .dataframe tbody tr th {\n",
       "        vertical-align: top;\n",
       "    }\n",
       "\n",
       "    .dataframe thead th {\n",
       "        text-align: right;\n",
       "    }\n",
       "</style>\n",
       "<table border=\"1\" class=\"dataframe\">\n",
       "  <thead>\n",
       "    <tr style=\"text-align: right;\">\n",
       "      <th></th>\n",
       "      <th>id</th>\n",
       "      <th>severity_type</th>\n",
       "    </tr>\n",
       "  </thead>\n",
       "  <tbody>\n",
       "    <tr>\n",
       "      <th>0</th>\n",
       "      <td>6597</td>\n",
       "      <td>severity_type 2</td>\n",
       "    </tr>\n",
       "    <tr>\n",
       "      <th>1</th>\n",
       "      <td>8011</td>\n",
       "      <td>severity_type 2</td>\n",
       "    </tr>\n",
       "    <tr>\n",
       "      <th>2</th>\n",
       "      <td>2597</td>\n",
       "      <td>severity_type 2</td>\n",
       "    </tr>\n",
       "    <tr>\n",
       "      <th>3</th>\n",
       "      <td>5022</td>\n",
       "      <td>severity_type 1</td>\n",
       "    </tr>\n",
       "    <tr>\n",
       "      <th>4</th>\n",
       "      <td>6852</td>\n",
       "      <td>severity_type 1</td>\n",
       "    </tr>\n",
       "  </tbody>\n",
       "</table>\n",
       "</div>"
      ],
      "text/plain": [
       "     id    severity_type\n",
       "0  6597  severity_type 2\n",
       "1  8011  severity_type 2\n",
       "2  2597  severity_type 2\n",
       "3  5022  severity_type 1\n",
       "4  6852  severity_type 1"
      ]
     },
     "metadata": {},
     "output_type": "display_data"
    },
    {
     "data": {
      "text/plain": [
       "id                int64\n",
       "severity_type    object\n",
       "dtype: object"
      ]
     },
     "metadata": {},
     "output_type": "display_data"
    },
    {
     "name": "stdout",
     "output_type": "stream",
     "text": [
      "\n",
      "----- event_type.csv -----\n",
      "\n",
      "event_type.csv :Number of wrong rows = 1, positions = [31171]\n",
      "\n"
     ]
    },
    {
     "data": {
      "text/html": [
       "<div>\n",
       "<style scoped>\n",
       "    .dataframe tbody tr th:only-of-type {\n",
       "        vertical-align: middle;\n",
       "    }\n",
       "\n",
       "    .dataframe tbody tr th {\n",
       "        vertical-align: top;\n",
       "    }\n",
       "\n",
       "    .dataframe thead th {\n",
       "        text-align: right;\n",
       "    }\n",
       "</style>\n",
       "<table border=\"1\" class=\"dataframe\">\n",
       "  <thead>\n",
       "    <tr style=\"text-align: right;\">\n",
       "      <th></th>\n",
       "      <th>id</th>\n",
       "      <th>event_type</th>\n",
       "      <th>event_flag</th>\n",
       "    </tr>\n",
       "  </thead>\n",
       "  <tbody>\n",
       "    <tr>\n",
       "      <th>1</th>\n",
       "      <td>6597</td>\n",
       "      <td>event_type 11</td>\n",
       "      <td>NaN</td>\n",
       "    </tr>\n",
       "    <tr>\n",
       "      <th>2</th>\n",
       "      <td>8011</td>\n",
       "      <td>event_type 15</td>\n",
       "      <td>NaN</td>\n",
       "    </tr>\n",
       "    <tr>\n",
       "      <th>3</th>\n",
       "      <td>2597</td>\n",
       "      <td>event_type 15</td>\n",
       "      <td>NaN</td>\n",
       "    </tr>\n",
       "    <tr>\n",
       "      <th>4</th>\n",
       "      <td>5022</td>\n",
       "      <td>event_type 15</td>\n",
       "      <td>NaN</td>\n",
       "    </tr>\n",
       "    <tr>\n",
       "      <th>5</th>\n",
       "      <td>5022</td>\n",
       "      <td>event_type 11</td>\n",
       "      <td>NaN</td>\n",
       "    </tr>\n",
       "  </tbody>\n",
       "</table>\n",
       "</div>"
      ],
      "text/plain": [
       "     id     event_type  event_flag\n",
       "1  6597  event_type 11         NaN\n",
       "2  8011  event_type 15         NaN\n",
       "3  2597  event_type 15         NaN\n",
       "4  5022  event_type 15         NaN\n",
       "5  5022  event_type 11         NaN"
      ]
     },
     "metadata": {},
     "output_type": "display_data"
    },
    {
     "data": {
      "text/plain": [
       "id              int64\n",
       "event_type     object\n",
       "event_flag    float64\n",
       "dtype: object"
      ]
     },
     "metadata": {},
     "output_type": "display_data"
    },
    {
     "name": "stdout",
     "output_type": "stream",
     "text": [
      "\n",
      "----- resource_type.csv -----\n",
      "\n",
      "resource_type.csv: Number of wrong rows = 1, positions = [21077]\n",
      "\n"
     ]
    },
    {
     "data": {
      "text/html": [
       "<div>\n",
       "<style scoped>\n",
       "    .dataframe tbody tr th:only-of-type {\n",
       "        vertical-align: middle;\n",
       "    }\n",
       "\n",
       "    .dataframe tbody tr th {\n",
       "        vertical-align: top;\n",
       "    }\n",
       "\n",
       "    .dataframe thead th {\n",
       "        text-align: right;\n",
       "    }\n",
       "</style>\n",
       "<table border=\"1\" class=\"dataframe\">\n",
       "  <thead>\n",
       "    <tr style=\"text-align: right;\">\n",
       "      <th></th>\n",
       "      <th>id</th>\n",
       "      <th>resource_type</th>\n",
       "      <th>resource_flag</th>\n",
       "    </tr>\n",
       "  </thead>\n",
       "  <tbody>\n",
       "    <tr>\n",
       "      <th>1</th>\n",
       "      <td>6597</td>\n",
       "      <td>resource_type 8</td>\n",
       "      <td>NaN</td>\n",
       "    </tr>\n",
       "    <tr>\n",
       "      <th>2</th>\n",
       "      <td>8011</td>\n",
       "      <td>resource_type 8</td>\n",
       "      <td>NaN</td>\n",
       "    </tr>\n",
       "    <tr>\n",
       "      <th>3</th>\n",
       "      <td>2597</td>\n",
       "      <td>resource_type 8</td>\n",
       "      <td>NaN</td>\n",
       "    </tr>\n",
       "    <tr>\n",
       "      <th>4</th>\n",
       "      <td>5022</td>\n",
       "      <td>resource_type 8</td>\n",
       "      <td>NaN</td>\n",
       "    </tr>\n",
       "    <tr>\n",
       "      <th>5</th>\n",
       "      <td>6852</td>\n",
       "      <td>resource_type 8</td>\n",
       "      <td>NaN</td>\n",
       "    </tr>\n",
       "  </tbody>\n",
       "</table>\n",
       "</div>"
      ],
      "text/plain": [
       "     id    resource_type  resource_flag\n",
       "1  6597  resource_type 8            NaN\n",
       "2  8011  resource_type 8            NaN\n",
       "3  2597  resource_type 8            NaN\n",
       "4  5022  resource_type 8            NaN\n",
       "5  6852  resource_type 8            NaN"
      ]
     },
     "metadata": {},
     "output_type": "display_data"
    },
    {
     "data": {
      "text/plain": [
       "id                 int64\n",
       "resource_type     object\n",
       "resource_flag    float64\n",
       "dtype: object"
      ]
     },
     "metadata": {},
     "output_type": "display_data"
    }
   ],
   "source": [
    "files = read_tables()\n",
    "\n",
    "data_main = files['train.csv']\n",
    "log_feature = files['log_feature.csv']\n",
    "severity_type = files['severity_type.csv']\n",
    "event_type = files['event_type.csv']\n",
    "resource_type = files['resource_type.csv']"
   ]
  },
  {
   "cell_type": "markdown",
   "metadata": {},
   "source": [
    "## 2. Get samples\n",
    "\n",
    "Take a sample from each class(fault_severity) and observe the relationship between fault_severity and other features."
   ]
  },
  {
   "cell_type": "code",
   "execution_count": 4,
   "metadata": {},
   "outputs": [
    {
     "name": "stdout",
     "output_type": "stream",
     "text": [
      "***** fault severity 0 *****\n",
      "id = 15637\n"
     ]
    },
    {
     "data": {
      "text/html": [
       "<div>\n",
       "<style scoped>\n",
       "    .dataframe tbody tr th:only-of-type {\n",
       "        vertical-align: middle;\n",
       "    }\n",
       "\n",
       "    .dataframe tbody tr th {\n",
       "        vertical-align: top;\n",
       "    }\n",
       "\n",
       "    .dataframe thead th {\n",
       "        text-align: right;\n",
       "    }\n",
       "</style>\n",
       "<table border=\"1\" class=\"dataframe\">\n",
       "  <thead>\n",
       "    <tr style=\"text-align: right;\">\n",
       "      <th></th>\n",
       "      <th>id</th>\n",
       "      <th>location</th>\n",
       "      <th>fault_severity</th>\n",
       "    </tr>\n",
       "  </thead>\n",
       "  <tbody>\n",
       "    <tr>\n",
       "      <th>5712</th>\n",
       "      <td>15637</td>\n",
       "      <td>location 493</td>\n",
       "      <td>0</td>\n",
       "    </tr>\n",
       "  </tbody>\n",
       "</table>\n",
       "</div>"
      ],
      "text/plain": [
       "         id      location  fault_severity\n",
       "5712  15637  location 493               0"
      ]
     },
     "metadata": {},
     "output_type": "display_data"
    },
    {
     "data": {
      "text/html": [
       "<div>\n",
       "<style scoped>\n",
       "    .dataframe tbody tr th:only-of-type {\n",
       "        vertical-align: middle;\n",
       "    }\n",
       "\n",
       "    .dataframe tbody tr th {\n",
       "        vertical-align: top;\n",
       "    }\n",
       "\n",
       "    .dataframe thead th {\n",
       "        text-align: right;\n",
       "    }\n",
       "</style>\n",
       "<table border=\"1\" class=\"dataframe\">\n",
       "  <thead>\n",
       "    <tr style=\"text-align: right;\">\n",
       "      <th></th>\n",
       "      <th>id</th>\n",
       "      <th>event_type</th>\n",
       "      <th>event_flag</th>\n",
       "    </tr>\n",
       "  </thead>\n",
       "  <tbody>\n",
       "    <tr>\n",
       "      <th>16027</th>\n",
       "      <td>15637</td>\n",
       "      <td>event_type 34</td>\n",
       "      <td>NaN</td>\n",
       "    </tr>\n",
       "    <tr>\n",
       "      <th>16028</th>\n",
       "      <td>15637</td>\n",
       "      <td>event_type 35</td>\n",
       "      <td>NaN</td>\n",
       "    </tr>\n",
       "  </tbody>\n",
       "</table>\n",
       "</div>"
      ],
      "text/plain": [
       "          id     event_type  event_flag\n",
       "16027  15637  event_type 34         NaN\n",
       "16028  15637  event_type 35         NaN"
      ]
     },
     "metadata": {},
     "output_type": "display_data"
    },
    {
     "data": {
      "text/html": [
       "<div>\n",
       "<style scoped>\n",
       "    .dataframe tbody tr th:only-of-type {\n",
       "        vertical-align: middle;\n",
       "    }\n",
       "\n",
       "    .dataframe tbody tr th {\n",
       "        vertical-align: top;\n",
       "    }\n",
       "\n",
       "    .dataframe thead th {\n",
       "        text-align: right;\n",
       "    }\n",
       "</style>\n",
       "<table border=\"1\" class=\"dataframe\">\n",
       "  <thead>\n",
       "    <tr style=\"text-align: right;\">\n",
       "      <th></th>\n",
       "      <th>id</th>\n",
       "      <th>log_feature</th>\n",
       "      <th>volume</th>\n",
       "    </tr>\n",
       "  </thead>\n",
       "  <tbody>\n",
       "    <tr>\n",
       "      <th>30964</th>\n",
       "      <td>15637</td>\n",
       "      <td>feature 312</td>\n",
       "      <td>1</td>\n",
       "    </tr>\n",
       "    <tr>\n",
       "      <th>30965</th>\n",
       "      <td>15637</td>\n",
       "      <td>feature 232</td>\n",
       "      <td>1</td>\n",
       "    </tr>\n",
       "  </tbody>\n",
       "</table>\n",
       "</div>"
      ],
      "text/plain": [
       "          id  log_feature  volume\n",
       "30964  15637  feature 312       1\n",
       "30965  15637  feature 232       1"
      ]
     },
     "metadata": {},
     "output_type": "display_data"
    },
    {
     "data": {
      "text/html": [
       "<div>\n",
       "<style scoped>\n",
       "    .dataframe tbody tr th:only-of-type {\n",
       "        vertical-align: middle;\n",
       "    }\n",
       "\n",
       "    .dataframe tbody tr th {\n",
       "        vertical-align: top;\n",
       "    }\n",
       "\n",
       "    .dataframe thead th {\n",
       "        text-align: right;\n",
       "    }\n",
       "</style>\n",
       "<table border=\"1\" class=\"dataframe\">\n",
       "  <thead>\n",
       "    <tr style=\"text-align: right;\">\n",
       "      <th></th>\n",
       "      <th>id</th>\n",
       "      <th>severity_type</th>\n",
       "    </tr>\n",
       "  </thead>\n",
       "  <tbody>\n",
       "    <tr>\n",
       "      <th>9103</th>\n",
       "      <td>15637</td>\n",
       "      <td>severity_type 2</td>\n",
       "    </tr>\n",
       "  </tbody>\n",
       "</table>\n",
       "</div>"
      ],
      "text/plain": [
       "         id    severity_type\n",
       "9103  15637  severity_type 2"
      ]
     },
     "metadata": {},
     "output_type": "display_data"
    },
    {
     "data": {
      "text/html": [
       "<div>\n",
       "<style scoped>\n",
       "    .dataframe tbody tr th:only-of-type {\n",
       "        vertical-align: middle;\n",
       "    }\n",
       "\n",
       "    .dataframe tbody tr th {\n",
       "        vertical-align: top;\n",
       "    }\n",
       "\n",
       "    .dataframe thead th {\n",
       "        text-align: right;\n",
       "    }\n",
       "</style>\n",
       "<table border=\"1\" class=\"dataframe\">\n",
       "  <thead>\n",
       "    <tr style=\"text-align: right;\">\n",
       "      <th></th>\n",
       "      <th>id</th>\n",
       "      <th>resource_type</th>\n",
       "      <th>resource_flag</th>\n",
       "    </tr>\n",
       "  </thead>\n",
       "  <tbody>\n",
       "    <tr>\n",
       "      <th>9839</th>\n",
       "      <td>15637</td>\n",
       "      <td>resource_type 2</td>\n",
       "      <td>NaN</td>\n",
       "    </tr>\n",
       "  </tbody>\n",
       "</table>\n",
       "</div>"
      ],
      "text/plain": [
       "         id    resource_type  resource_flag\n",
       "9839  15637  resource_type 2            NaN"
      ]
     },
     "metadata": {},
     "output_type": "display_data"
    },
    {
     "name": "stdout",
     "output_type": "stream",
     "text": [
      "\n",
      "\n",
      "***** fault severity 1 *****\n",
      "id = 16866\n"
     ]
    },
    {
     "data": {
      "text/html": [
       "<div>\n",
       "<style scoped>\n",
       "    .dataframe tbody tr th:only-of-type {\n",
       "        vertical-align: middle;\n",
       "    }\n",
       "\n",
       "    .dataframe tbody tr th {\n",
       "        vertical-align: top;\n",
       "    }\n",
       "\n",
       "    .dataframe thead th {\n",
       "        text-align: right;\n",
       "    }\n",
       "</style>\n",
       "<table border=\"1\" class=\"dataframe\">\n",
       "  <thead>\n",
       "    <tr style=\"text-align: right;\">\n",
       "      <th></th>\n",
       "      <th>id</th>\n",
       "      <th>location</th>\n",
       "      <th>fault_severity</th>\n",
       "    </tr>\n",
       "  </thead>\n",
       "  <tbody>\n",
       "    <tr>\n",
       "      <th>1699</th>\n",
       "      <td>16866</td>\n",
       "      <td>location 821</td>\n",
       "      <td>1</td>\n",
       "    </tr>\n",
       "  </tbody>\n",
       "</table>\n",
       "</div>"
      ],
      "text/plain": [
       "         id      location  fault_severity\n",
       "1699  16866  location 821               1"
      ]
     },
     "metadata": {},
     "output_type": "display_data"
    },
    {
     "data": {
      "text/html": [
       "<div>\n",
       "<style scoped>\n",
       "    .dataframe tbody tr th:only-of-type {\n",
       "        vertical-align: middle;\n",
       "    }\n",
       "\n",
       "    .dataframe tbody tr th {\n",
       "        vertical-align: top;\n",
       "    }\n",
       "\n",
       "    .dataframe thead th {\n",
       "        text-align: right;\n",
       "    }\n",
       "</style>\n",
       "<table border=\"1\" class=\"dataframe\">\n",
       "  <thead>\n",
       "    <tr style=\"text-align: right;\">\n",
       "      <th></th>\n",
       "      <th>id</th>\n",
       "      <th>event_type</th>\n",
       "      <th>event_flag</th>\n",
       "    </tr>\n",
       "  </thead>\n",
       "  <tbody>\n",
       "    <tr>\n",
       "      <th>25214</th>\n",
       "      <td>16866</td>\n",
       "      <td>event_type 15</td>\n",
       "      <td>NaN</td>\n",
       "    </tr>\n",
       "  </tbody>\n",
       "</table>\n",
       "</div>"
      ],
      "text/plain": [
       "          id     event_type  event_flag\n",
       "25214  16866  event_type 15         NaN"
      ]
     },
     "metadata": {},
     "output_type": "display_data"
    },
    {
     "data": {
      "text/html": [
       "<div>\n",
       "<style scoped>\n",
       "    .dataframe tbody tr th:only-of-type {\n",
       "        vertical-align: middle;\n",
       "    }\n",
       "\n",
       "    .dataframe tbody tr th {\n",
       "        vertical-align: top;\n",
       "    }\n",
       "\n",
       "    .dataframe thead th {\n",
       "        text-align: right;\n",
       "    }\n",
       "</style>\n",
       "<table border=\"1\" class=\"dataframe\">\n",
       "  <thead>\n",
       "    <tr style=\"text-align: right;\">\n",
       "      <th></th>\n",
       "      <th>id</th>\n",
       "      <th>log_feature</th>\n",
       "      <th>volume</th>\n",
       "    </tr>\n",
       "  </thead>\n",
       "  <tbody>\n",
       "    <tr>\n",
       "      <th>47996</th>\n",
       "      <td>16866</td>\n",
       "      <td>feature 82</td>\n",
       "      <td>8</td>\n",
       "    </tr>\n",
       "    <tr>\n",
       "      <th>47997</th>\n",
       "      <td>16866</td>\n",
       "      <td>feature 71</td>\n",
       "      <td>4</td>\n",
       "    </tr>\n",
       "    <tr>\n",
       "      <th>47998</th>\n",
       "      <td>16866</td>\n",
       "      <td>feature 193</td>\n",
       "      <td>2</td>\n",
       "    </tr>\n",
       "    <tr>\n",
       "      <th>47999</th>\n",
       "      <td>16866</td>\n",
       "      <td>feature 203</td>\n",
       "      <td>3</td>\n",
       "    </tr>\n",
       "  </tbody>\n",
       "</table>\n",
       "</div>"
      ],
      "text/plain": [
       "          id  log_feature  volume\n",
       "47996  16866   feature 82       8\n",
       "47997  16866   feature 71       4\n",
       "47998  16866  feature 193       2\n",
       "47999  16866  feature 203       3"
      ]
     },
     "metadata": {},
     "output_type": "display_data"
    },
    {
     "data": {
      "text/html": [
       "<div>\n",
       "<style scoped>\n",
       "    .dataframe tbody tr th:only-of-type {\n",
       "        vertical-align: middle;\n",
       "    }\n",
       "\n",
       "    .dataframe tbody tr th {\n",
       "        vertical-align: top;\n",
       "    }\n",
       "\n",
       "    .dataframe thead th {\n",
       "        text-align: right;\n",
       "    }\n",
       "</style>\n",
       "<table border=\"1\" class=\"dataframe\">\n",
       "  <thead>\n",
       "    <tr style=\"text-align: right;\">\n",
       "      <th></th>\n",
       "      <th>id</th>\n",
       "      <th>severity_type</th>\n",
       "    </tr>\n",
       "  </thead>\n",
       "  <tbody>\n",
       "    <tr>\n",
       "      <th>14811</th>\n",
       "      <td>16866</td>\n",
       "      <td>severity_type 2</td>\n",
       "    </tr>\n",
       "  </tbody>\n",
       "</table>\n",
       "</div>"
      ],
      "text/plain": [
       "          id    severity_type\n",
       "14811  16866  severity_type 2"
      ]
     },
     "metadata": {},
     "output_type": "display_data"
    },
    {
     "data": {
      "text/html": [
       "<div>\n",
       "<style scoped>\n",
       "    .dataframe tbody tr th:only-of-type {\n",
       "        vertical-align: middle;\n",
       "    }\n",
       "\n",
       "    .dataframe tbody tr th {\n",
       "        vertical-align: top;\n",
       "    }\n",
       "\n",
       "    .dataframe thead th {\n",
       "        text-align: right;\n",
       "    }\n",
       "</style>\n",
       "<table border=\"1\" class=\"dataframe\">\n",
       "  <thead>\n",
       "    <tr style=\"text-align: right;\">\n",
       "      <th></th>\n",
       "      <th>id</th>\n",
       "      <th>resource_type</th>\n",
       "      <th>resource_flag</th>\n",
       "    </tr>\n",
       "  </thead>\n",
       "  <tbody>\n",
       "    <tr>\n",
       "      <th>16756</th>\n",
       "      <td>16866</td>\n",
       "      <td>resource_type 8</td>\n",
       "      <td>NaN</td>\n",
       "    </tr>\n",
       "  </tbody>\n",
       "</table>\n",
       "</div>"
      ],
      "text/plain": [
       "          id    resource_type  resource_flag\n",
       "16756  16866  resource_type 8            NaN"
      ]
     },
     "metadata": {},
     "output_type": "display_data"
    },
    {
     "name": "stdout",
     "output_type": "stream",
     "text": [
      "\n",
      "\n",
      "***** fault severity 2 *****\n",
      "id = 5928\n"
     ]
    },
    {
     "data": {
      "text/html": [
       "<div>\n",
       "<style scoped>\n",
       "    .dataframe tbody tr th:only-of-type {\n",
       "        vertical-align: middle;\n",
       "    }\n",
       "\n",
       "    .dataframe tbody tr th {\n",
       "        vertical-align: top;\n",
       "    }\n",
       "\n",
       "    .dataframe thead th {\n",
       "        text-align: right;\n",
       "    }\n",
       "</style>\n",
       "<table border=\"1\" class=\"dataframe\">\n",
       "  <thead>\n",
       "    <tr style=\"text-align: right;\">\n",
       "      <th></th>\n",
       "      <th>id</th>\n",
       "      <th>location</th>\n",
       "      <th>fault_severity</th>\n",
       "    </tr>\n",
       "  </thead>\n",
       "  <tbody>\n",
       "    <tr>\n",
       "      <th>4824</th>\n",
       "      <td>5928</td>\n",
       "      <td>location 1008</td>\n",
       "      <td>2</td>\n",
       "    </tr>\n",
       "  </tbody>\n",
       "</table>\n",
       "</div>"
      ],
      "text/plain": [
       "        id       location  fault_severity\n",
       "4824  5928  location 1008               2"
      ]
     },
     "metadata": {},
     "output_type": "display_data"
    },
    {
     "data": {
      "text/html": [
       "<div>\n",
       "<style scoped>\n",
       "    .dataframe tbody tr th:only-of-type {\n",
       "        vertical-align: middle;\n",
       "    }\n",
       "\n",
       "    .dataframe tbody tr th {\n",
       "        vertical-align: top;\n",
       "    }\n",
       "\n",
       "    .dataframe thead th {\n",
       "        text-align: right;\n",
       "    }\n",
       "</style>\n",
       "<table border=\"1\" class=\"dataframe\">\n",
       "  <thead>\n",
       "    <tr style=\"text-align: right;\">\n",
       "      <th></th>\n",
       "      <th>id</th>\n",
       "      <th>event_type</th>\n",
       "      <th>event_flag</th>\n",
       "    </tr>\n",
       "  </thead>\n",
       "  <tbody>\n",
       "    <tr>\n",
       "      <th>395</th>\n",
       "      <td>5928</td>\n",
       "      <td>event_type 15</td>\n",
       "      <td>NaN</td>\n",
       "    </tr>\n",
       "    <tr>\n",
       "      <th>396</th>\n",
       "      <td>5928</td>\n",
       "      <td>event_type 11</td>\n",
       "      <td>NaN</td>\n",
       "    </tr>\n",
       "  </tbody>\n",
       "</table>\n",
       "</div>"
      ],
      "text/plain": [
       "       id     event_type  event_flag\n",
       "395  5928  event_type 15         NaN\n",
       "396  5928  event_type 11         NaN"
      ]
     },
     "metadata": {},
     "output_type": "display_data"
    },
    {
     "data": {
      "text/html": [
       "<div>\n",
       "<style scoped>\n",
       "    .dataframe tbody tr th:only-of-type {\n",
       "        vertical-align: middle;\n",
       "    }\n",
       "\n",
       "    .dataframe tbody tr th {\n",
       "        vertical-align: top;\n",
       "    }\n",
       "\n",
       "    .dataframe thead th {\n",
       "        text-align: right;\n",
       "    }\n",
       "</style>\n",
       "<table border=\"1\" class=\"dataframe\">\n",
       "  <thead>\n",
       "    <tr style=\"text-align: right;\">\n",
       "      <th></th>\n",
       "      <th>id</th>\n",
       "      <th>log_feature</th>\n",
       "      <th>volume</th>\n",
       "    </tr>\n",
       "  </thead>\n",
       "  <tbody>\n",
       "    <tr>\n",
       "      <th>663</th>\n",
       "      <td>5928</td>\n",
       "      <td>feature 203</td>\n",
       "      <td>4</td>\n",
       "    </tr>\n",
       "    <tr>\n",
       "      <th>664</th>\n",
       "      <td>5928</td>\n",
       "      <td>feature 201</td>\n",
       "      <td>3</td>\n",
       "    </tr>\n",
       "    <tr>\n",
       "      <th>665</th>\n",
       "      <td>5928</td>\n",
       "      <td>feature 82</td>\n",
       "      <td>6</td>\n",
       "    </tr>\n",
       "    <tr>\n",
       "      <th>666</th>\n",
       "      <td>5928</td>\n",
       "      <td>feature 80</td>\n",
       "      <td>4</td>\n",
       "    </tr>\n",
       "  </tbody>\n",
       "</table>\n",
       "</div>"
      ],
      "text/plain": [
       "       id  log_feature  volume\n",
       "663  5928  feature 203       4\n",
       "664  5928  feature 201       3\n",
       "665  5928   feature 82       6\n",
       "666  5928   feature 80       4"
      ]
     },
     "metadata": {},
     "output_type": "display_data"
    },
    {
     "data": {
      "text/html": [
       "<div>\n",
       "<style scoped>\n",
       "    .dataframe tbody tr th:only-of-type {\n",
       "        vertical-align: middle;\n",
       "    }\n",
       "\n",
       "    .dataframe tbody tr th {\n",
       "        vertical-align: top;\n",
       "    }\n",
       "\n",
       "    .dataframe thead th {\n",
       "        text-align: right;\n",
       "    }\n",
       "</style>\n",
       "<table border=\"1\" class=\"dataframe\">\n",
       "  <thead>\n",
       "    <tr style=\"text-align: right;\">\n",
       "      <th></th>\n",
       "      <th>id</th>\n",
       "      <th>severity_type</th>\n",
       "    </tr>\n",
       "  </thead>\n",
       "  <tbody>\n",
       "    <tr>\n",
       "      <th>244</th>\n",
       "      <td>5928</td>\n",
       "      <td>severity_type 1</td>\n",
       "    </tr>\n",
       "  </tbody>\n",
       "</table>\n",
       "</div>"
      ],
      "text/plain": [
       "       id    severity_type\n",
       "244  5928  severity_type 1"
      ]
     },
     "metadata": {},
     "output_type": "display_data"
    },
    {
     "data": {
      "text/html": [
       "<div>\n",
       "<style scoped>\n",
       "    .dataframe tbody tr th:only-of-type {\n",
       "        vertical-align: middle;\n",
       "    }\n",
       "\n",
       "    .dataframe tbody tr th {\n",
       "        vertical-align: top;\n",
       "    }\n",
       "\n",
       "    .dataframe thead th {\n",
       "        text-align: right;\n",
       "    }\n",
       "</style>\n",
       "<table border=\"1\" class=\"dataframe\">\n",
       "  <thead>\n",
       "    <tr style=\"text-align: right;\">\n",
       "      <th></th>\n",
       "      <th>id</th>\n",
       "      <th>resource_type</th>\n",
       "      <th>resource_flag</th>\n",
       "    </tr>\n",
       "  </thead>\n",
       "  <tbody>\n",
       "    <tr>\n",
       "      <th>256</th>\n",
       "      <td>5928</td>\n",
       "      <td>resource_type 8</td>\n",
       "      <td>NaN</td>\n",
       "    </tr>\n",
       "  </tbody>\n",
       "</table>\n",
       "</div>"
      ],
      "text/plain": [
       "       id    resource_type  resource_flag\n",
       "256  5928  resource_type 8            NaN"
      ]
     },
     "metadata": {},
     "output_type": "display_data"
    },
    {
     "name": "stdout",
     "output_type": "stream",
     "text": [
      "\n",
      "\n"
     ]
    }
   ],
   "source": [
    "np.random.seed(6000)\n",
    "\n",
    "# Take a sample randomly from each fault severity\n",
    "group_fs = data_main.groupby('fault_severity').groups\n",
    "\n",
    "sample_id = {}\n",
    "for k in group_fs.keys():\n",
    "    r_sample = np.random.choice(group_fs[k])\n",
    "    sample_id[k] = data_main.loc[r_sample]['id']\n",
    "    \n",
    "    print(\"***** fault severity {} *****\".format(k))\n",
    "    print(\"id = {}\".format(sample_id[k]))\n",
    "    display(data_main.loc[data_main['id'] == sample_id[k]])\n",
    "    display(event_type.loc[event_type['id'] == sample_id[k]])\n",
    "    display(log_feature.loc[log_feature['id'] == sample_id[k]])\n",
    "    display(severity_type.loc[severity_type['id'] == sample_id[k]])\n",
    "    display(resource_type.loc[resource_type['id'] == sample_id[k]])\n",
    "    print(\"\\n\")\n"
   ]
  },
  {
   "cell_type": "markdown",
   "metadata": {},
   "source": [
    "## 3. Data analyze\n",
    "\n",
    "### 3.1 Class distribution\n",
    "\n",
    "See how many data points are in each class (fault severity). **Is it balanced? Or imbalanced?**"
   ]
  },
  {
   "cell_type": "code",
   "execution_count": 5,
   "metadata": {},
   "outputs": [
    {
     "name": "stdout",
     "output_type": "stream",
     "text": [
      "fault_severity\n",
      "0    4784\n",
      "1    1871\n",
      "2     726\n",
      "dtype: int64\n",
      "\n",
      "fault_severity 0 = 64.82%\n",
      "fault_severity 1 = 25.35%\n",
      "fault_severity 2 = 9.84%\n",
      "\n",
      "Total number of samples = 7381\n"
     ]
    }
   ],
   "source": [
    "# Use DataFrame.groupby().size()  <--- show the number of samples in each category\n",
    "fss = data_main.groupby('fault_severity').size()\n",
    "print(fss)\n",
    "\n",
    "print(\"\\nfault_severity 0 = {:2.2%}\".format(fss[0]/data_main.shape[0]))\n",
    "print(\"fault_severity 1 = {:2.2%}\".format(fss[1]/data_main.shape[0]))\n",
    "print(\"fault_severity 2 = {:2.2%}\".format(fss[2]/data_main.shape[0]))\n",
    "print(\"\\nTotal number of samples = {}\".format(data_main.shape[0]))"
   ]
  },
  {
   "cell_type": "markdown",
   "metadata": {},
   "source": [
    "### 3.2 Number of data points in each file"
   ]
  },
  {
   "cell_type": "code",
   "execution_count": 6,
   "metadata": {},
   "outputs": [
    {
     "name": "stdout",
     "output_type": "stream",
     "text": [
      "train.csv: Number of rows = 7381\n",
      "log_feature.csv: Number of rows = 58671\n",
      "severity_type.csv: Number of rows = 18552\n",
      "event_type.csv: Number of rows = 34082\n",
      "resource_type.csv: Number of rows = 22876\n"
     ]
    }
   ],
   "source": [
    "print(\"train.csv: Number of rows = {}\".format(data_main.shape[0]))\n",
    "print(\"log_feature.csv: Number of rows = {}\".format(log_feature.shape[0]))\n",
    "print(\"severity_type.csv: Number of rows = {}\".format(severity_type.shape[0]))\n",
    "print(\"event_type.csv: Number of rows = {}\".format(event_type.shape[0]))\n",
    "print(\"resource_type.csv: Number of rows = {}\".format(resource_type.shape[0]))"
   ]
  },
  {
   "cell_type": "markdown",
   "metadata": {},
   "source": [
    "### 3.3 How many types or categories in each feature?\n",
    "\n",
    "Count the number of types in each feature. "
   ]
  },
  {
   "cell_type": "code",
   "execution_count": 7,
   "metadata": {},
   "outputs": [
    {
     "name": "stdout",
     "output_type": "stream",
     "text": [
      "train.csv: id = 7381, location = 929\n",
      "log_feature.csv: id = 18552, log_feature = 386, volume = 341\n",
      "severity_type.csv: id = 18552, severity_type = 5\n",
      "event_type.csv: id = 18552, event_type = 53\n",
      "resource_type.csv: id = 18552, resource_type = 10\n"
     ]
    }
   ],
   "source": [
    "# Location\n",
    "print(\"train.csv: id = {}, location = {}\".format(len(data_main['id'].unique()),\n",
    "                                                 len(data_main['location'].unique())))\n",
    "\n",
    "# log_feature and volume\n",
    "print(\"log_feature.csv: id = {}, log_feature = {}, volume = {}\".format(len(log_feature['id'].unique()),\n",
    "                                                                       len(log_feature['log_feature'].unique()),\n",
    "                                                                       len(log_feature['volume'].unique())))\n",
    "\n",
    "# severity_type\n",
    "print(\"severity_type.csv: id = {}, severity_type = {}\".format(len(severity_type['id'].unique()),\n",
    "                                                              len(severity_type['severity_type'].unique())))\n",
    "\n",
    "# event_type\n",
    "print(\"event_type.csv: id = {}, event_type = {}\".format(len(event_type['id'].unique()),\n",
    "                                                        len(event_type['event_type'].unique())))\n",
    "\n",
    "# resource_type\n",
    "print(\"resource_type.csv: id = {}, resource_type = {}\".format(len(resource_type['id'].unique()),\n",
    "                                                              len(resource_type['resource_type'].unique())))\n"
   ]
  },
  {
   "cell_type": "markdown",
   "metadata": {},
   "source": [
    "### 3.4 How many types in a feature belong to one id?"
   ]
  },
  {
   "cell_type": "code",
   "execution_count": 8,
   "metadata": {},
   "outputs": [
    {
     "name": "stdout",
     "output_type": "stream",
     "text": [
      "How many log_features and volumes for an id? : min = 1, max = 20\n",
      "How many severity_types for an id? : min = 1, max = 1\n",
      "How many event_types for an id? : min = 1, max = 20\n",
      "How many resource_types for an id? : min = 1, max = 10\n"
     ]
    }
   ],
   "source": [
    "print(\"How many log_features and volumes for an id? : min = {}, max = {}\".format(log_feature.groupby('id').size().min(),\n",
    "                                                                                log_feature.groupby('id').size().max()))\n",
    "print(\"How many severity_types for an id? : min = {}, max = {}\".format(severity_type.groupby('id').size().min(),\n",
    "                                                                       severity_type.groupby('id').size().max()))\n",
    "print(\"How many event_types for an id? : min = {}, max = {}\".format(event_type.groupby('id').size().min(),\n",
    "                                                                    event_type.groupby('id').size().max()))\n",
    "print(\"How many resource_types for an id? : min = {}, max = {}\".format(resource_type.groupby('id').size().min(),\n",
    "                                                                       resource_type.groupby('id').size().max()))\n"
   ]
  },
  {
   "cell_type": "markdown",
   "metadata": {},
   "source": [
    "## 4. Visualization"
   ]
  },
  {
   "cell_type": "markdown",
   "metadata": {},
   "source": [
    "### 4.1 Distribution of fault severity"
   ]
  },
  {
   "cell_type": "code",
   "execution_count": 9,
   "metadata": {},
   "outputs": [],
   "source": [
    "# Set the color of count plot: fault_severity 0 = blue, 1 = green, 2 = red\n",
    "current_palette = sns.color_palette()\n",
    "cl = np.array(current_palette)\n",
    "palette_fs = [cl[0], cl[2], cl[3]]"
   ]
  },
  {
   "cell_type": "code",
   "execution_count": 10,
   "metadata": {},
   "outputs": [
    {
     "data": {
      "image/png": "[encoded data removed]",
      "text/plain": [
       "<Figure size 432x288 with 1 Axes>"
      ]
     },
     "metadata": {},
     "output_type": "display_data"
    }
   ],
   "source": [
    "# Show contplot \n",
    "ax = sns.countplot(data_main['fault_severity'], order=[0, 1, 2], palette=palette_fs)\n",
    "ax.set_ylabel(\"Number of samples\")\n",
    "ax.set_title(\"Number of samples in fault severity\")\n",
    "\n",
    "# Save image into file\n",
    "plt.savefig(\"figures/dist_fault_severity.png\")\n",
    "\n",
    "plt.show()"
   ]
  },
  {
   "cell_type": "markdown",
   "metadata": {},
   "source": [
    "### 4.2 Distribution of features\n",
    "\n",
    "How many variations in features? How many data points are there in each features in training data?"
   ]
  },
  {
   "cell_type": "code",
   "execution_count": 11,
   "metadata": {},
   "outputs": [],
   "source": [
    "def plot_featurecount(df, feature_name, tick=1, save=False):\n",
    "    \"\"\" Show countplot for a specified feature. \n",
    "        If 'save' is specified, the plot is saved in a file.\n",
    "    \"\"\"\n",
    "    \n",
    "    feature = df[feature_name]\n",
    "    \n",
    "    if feature.dtypes == 'object':\n",
    "        # sort features by number instead of by string\n",
    "        f_order = sorted(feature.unique(), key=getint)\n",
    "        xlabel = np.arange(0, len(f_order), tick)\n",
    "        xt = [getint(f_order[i]) for i in xlabel]\n",
    "        \n",
    "    else:\n",
    "        # sort features by number\n",
    "        f_order = sorted(feature.unique())\n",
    "        xlabel = np.arange(0, len(f_order), tick)\n",
    "        xt = [f_order[i] for i in xlabel]\n",
    "   \n",
    "    # set plot size\n",
    "    fig_width = 14 if len(f_order) > 10 else 6\n",
    "    fig, ax = plt.subplots(1, 1, figsize=(fig_width, 5))\n",
    "    \n",
    "    # set countplot and labels\n",
    "    ax = sns.countplot(feature, order=f_order)\n",
    "    \n",
    "    ax.set_xticks(xlabel)\n",
    "    ax.set_xticklabels(xt)\n",
    "\n",
    "    ax.set_ylabel(\"Number of samples\")\n",
    "    ax.set_xlabel(\"{} ({} to {}, with {} points)\".format(feature_name, f_order[0], f_order[-1], len(f_order)))\n",
    "    ax.set_title(\"Number of samples in each {}\".format(feature_name))\n",
    "    \n",
    "    if save == True:\n",
    "        # Save image into file\n",
    "        plt.savefig(\"figures/dist_{}.png\".format(feature_name))\n",
    "\n",
    "    plt.show()\n",
    "    "
   ]
  },
  {
   "cell_type": "markdown",
   "metadata": {},
   "source": [
    "### 4.2.1 location"
   ]
  },
  {
   "cell_type": "code",
   "execution_count": 12,
   "metadata": {},
   "outputs": [
    {
     "data": {
      "image/png": "[encoded data removed]",
      "text/plain": [
       "<Figure size 1008x360 with 1 Axes>"
      ]
     },
     "metadata": {},
     "output_type": "display_data"
    }
   ],
   "source": [
    "# location\n",
    "plot_featurecount(data_main, 'location', tick=50, save=True)"
   ]
  },
  {
   "cell_type": "markdown",
   "metadata": {},
   "source": [
    "### 4.2.2 log_feature and volume"
   ]
  },
  {
   "cell_type": "code",
   "execution_count": 13,
   "metadata": {},
   "outputs": [
    {
     "data": {
      "image/png": "[encoded data removed]",
      "text/plain": [
       "<Figure size 1008x360 with 1 Axes>"
      ]
     },
     "metadata": {},
     "output_type": "display_data"
    },
    {
     "data": {
      "image/png": "[encoded data removed]",
      "text/plain": [
       "<Figure size 1008x360 with 1 Axes>"
      ]
     },
     "metadata": {},
     "output_type": "display_data"
    }
   ],
   "source": [
    "# Extract training data\n",
    "lf_train = data_main.join(log_feature.set_index('id'), on='id')\n",
    "# log_feature\n",
    "plot_featurecount(lf_train, 'log_feature', tick=20)\n",
    "#volume\n",
    "plot_featurecount(lf_train, 'volume', tick=10, save=True)"
   ]
  },
  {
   "cell_type": "markdown",
   "metadata": {},
   "source": [
    "#### Additional analysis for volume"
   ]
  },
  {
   "cell_type": "code",
   "execution_count": 14,
   "metadata": {},
   "outputs": [
    {
     "name": "stdout",
     "output_type": "stream",
     "text": [
      "Mean of volume = 9.847176219026457\n",
      "Median of volume = 2.0\n",
      "volume 1 = 35.22%\n",
      "volume 2 = 16.93%\n"
     ]
    }
   ],
   "source": [
    "print(\"Mean of volume = {}\".format(lf_train['volume'].mean()))\n",
    "print(\"Median of volume = {}\".format(lf_train['volume'].median()))\n",
    "print(\"volume 1 = {:2.2%}\".format(len(lf_train.loc[lf_train['volume'] == 1])/lf_train.shape[0]))\n",
    "print(\"volume 2 = {:2.2%}\".format(len(lf_train.loc[lf_train['volume'] == 2])/lf_train.shape[0]))"
   ]
  },
  {
   "cell_type": "markdown",
   "metadata": {},
   "source": [
    "**Comment:** Most of data points are in volume = 1"
   ]
  },
  {
   "cell_type": "markdown",
   "metadata": {},
   "source": [
    "### 4.2.3 severity_type"
   ]
  },
  {
   "cell_type": "code",
   "execution_count": 15,
   "metadata": {},
   "outputs": [
    {
     "data": {
      "image/png": "[encoded data removed]",
      "text/plain": [
       "<Figure size 432x360 with 1 Axes>"
      ]
     },
     "metadata": {},
     "output_type": "display_data"
    }
   ],
   "source": [
    "# Extract training data\n",
    "st_train = data_main.join(severity_type.set_index('id'), on='id')\n",
    "# severity_type\n",
    "plot_featurecount(st_train, 'severity_type', tick=1)"
   ]
  },
  {
   "cell_type": "markdown",
   "metadata": {},
   "source": [
    "### 4.2.4 event_type"
   ]
  },
  {
   "cell_type": "code",
   "execution_count": 16,
   "metadata": {},
   "outputs": [
    {
     "data": {
      "image/png": "[encoded data removed]",
      "text/plain": [
       "<Figure size 1008x360 with 1 Axes>"
      ]
     },
     "metadata": {},
     "output_type": "display_data"
    }
   ],
   "source": [
    "# Extract training data\n",
    "et_train = data_main.join(event_type.set_index('id'), on='id')\n",
    "# event_type\n",
    "plot_featurecount(et_train, 'event_type', tick=1)"
   ]
  },
  {
   "cell_type": "markdown",
   "metadata": {},
   "source": [
    "### 4.2.5 resource_type"
   ]
  },
  {
   "cell_type": "code",
   "execution_count": 17,
   "metadata": {},
   "outputs": [
    {
     "data": {
      "image/png": "[encoded data removed]",
      "text/plain": [
       "<Figure size 432x360 with 1 Axes>"
      ]
     },
     "metadata": {},
     "output_type": "display_data"
    }
   ],
   "source": [
    "# Extract training data\n",
    "rt_train = data_main.join(resource_type.set_index('id'), on='id')\n",
    "# resource_type\n",
    "plot_featurecount(rt_train, 'resource_type', tick=1)"
   ]
  },
  {
   "cell_type": "markdown",
   "metadata": {},
   "source": [
    "## Additional examination\n",
    "\n",
    "### Should the additional column be considered?\n",
    "\n",
    "Should `event_flag` and `resource_flag` be considered to train the model?\n",
    "I'll see the relationship between these flags and `fault_severity`. "
   ]
  },
  {
   "cell_type": "code",
   "execution_count": 18,
   "metadata": {},
   "outputs": [
    {
     "data": {
      "image/png": "[encoded data removed]",
      "text/plain": [
       "<Figure size 432x288 with 1 Axes>"
      ]
     },
     "metadata": {},
     "output_type": "display_data"
    }
   ],
   "source": [
    "# event_flag\n",
    "\n",
    "# transform NaN into 0 to be used in coutplot()\n",
    "et_train['event_flag'] = et_train['event_flag'].fillna(0)\n",
    "\n",
    "# plot the difference of class distribution between flag is NaN or 1\n",
    "ax_e = sns.countplot(x='event_flag', hue='fault_severity', data=et_train, palette=palette_fs)\n",
    "ax_e.set_xticklabels(['NaN', '1'])\n",
    "ax_e.set_ylabel(\"Number of samples\")\n",
    "ax_e.set_title(\"Comparison of class distribution by event_flag\")\n",
    "plt.show()"
   ]
  },
  {
   "cell_type": "code",
   "execution_count": 19,
   "metadata": {},
   "outputs": [
    {
     "data": {
      "image/png": "[encoded data removed]",
      "text/plain": [
       "<Figure size 432x288 with 1 Axes>"
      ]
     },
     "metadata": {},
     "output_type": "display_data"
    }
   ],
   "source": [
    "# resource_flag\n",
    "\n",
    "# transform NaN into 0 to be used in coutplot()\n",
    "rt_train['resource_flag'] = rt_train['resource_flag'].fillna(0)\n",
    "\n",
    "# plot the difference of class distribution between flag is NaN or 1\n",
    "ax_r = sns.countplot(x='resource_flag', hue='fault_severity', data=rt_train, palette=palette_fs)\n",
    "ax_r.set_xticklabels(['NaN', '1'])\n",
    "ax_r.set_ylabel(\"Number of samples\")\n",
    "ax_r.set_title(\"Comparison of class distribution by resource_flag\")\n",
    "plt.show()"
   ]
  },
  {
   "cell_type": "code",
   "execution_count": null,
   "metadata": {},
   "outputs": [],
   "source": []
  }
 ],
 "metadata": {
  "kernelspec": {
   "display_name": "Python 3",
   "language": "python",
   "name": "python3"
  },
  "language_info": {
   "codemirror_mode": {
    "name": "ipython",
    "version": 3
   },
   "file_extension": ".py",
   "mimetype": "text/x-python",
   "name": "python",
   "nbconvert_exporter": "python",
   "pygments_lexer": "ipython3",
   "version": "3.6.5"
  }
 },
 "nbformat": 4,
 "nbformat_minor": 2
}
